{
 "cells": [
  {
   "cell_type": "code",
   "execution_count": 31,
   "id": "8941d073",
   "metadata": {},
   "outputs": [],
   "source": [
    "import numpy as np\n",
    "from numpy.fft import fft,ifft\n",
    "\n",
    "#creating the most basic dft code. O(N**2) time\n",
    "\n",
    "def dft(x):\n",
    "    N=len(x) #length of x\n",
    "    k,n=np.meshgrid(np.arange(N),np.arange(N)) #meshgrid of wave numbers and space points\n",
    "    M=np.exp(-1j*2*np.pi*k*n/N) #dft matrix\n",
    "    F=np.matmul(M,x) #the fourier transform\n",
    "    return F\n",
    "\n",
    "    "
   ]
  },
  {
   "cell_type": "code",
   "execution_count": 32,
   "id": "d9726f6c",
   "metadata": {},
   "outputs": [
    {
     "name": "stdout",
     "output_type": "stream",
     "text": [
      "4.065651674084134e-09\n"
     ]
    }
   ],
   "source": [
    "#checking correctness of code\n",
    "\n",
    "m=(2**10)*9 #size of input\n",
    "m=int(m)\n",
    "\n",
    "a=np.random.rand(m) #random input\n",
    "b=dft(a) #created dft applied to a\n",
    "c=fft(a) #in-built fft of numpy applied to a\n",
    "e=np.max(np.abs(b-c)) #error\n",
    "print(e)\n"
   ]
  },
  {
   "cell_type": "code",
   "execution_count": 33,
   "id": "fbce03a1",
   "metadata": {},
   "outputs": [
    {
     "name": "stdout",
     "output_type": "stream",
     "text": [
      "8.36 ns ± 0.0173 ns per loop (mean ± std. dev. of 7 runs, 100,000,000 loops each)\n",
      "8.36 ns ± 0.0139 ns per loop (mean ± std. dev. of 7 runs, 100,000,000 loops each)\n"
     ]
    },
    {
     "data": {
      "text/plain": [
       "'I was following the link https://jakevdp.github.io/blog/2013/08/28/understanding-the-fft/.\\nThere they mentioned there is an appreciable difference'"
      ]
     },
     "execution_count": 33,
     "metadata": {},
     "output_type": "execute_result"
    }
   ],
   "source": [
    "#comparing speed\n",
    "\n",
    "%timeit fft\n",
    "%timeit dft\n",
    "\n",
    "#pretty close.surprising\n",
    "#maybe my understanding of using time-it is off\n",
    "'''I was following the link https://jakevdp.github.io/blog/2013/08/28/understanding-the-fft/.\n",
    "There they mentioned there is an appreciable difference'''"
   ]
  },
  {
   "cell_type": "code",
   "execution_count": 34,
   "id": "1936e8f5",
   "metadata": {},
   "outputs": [],
   "source": [
    "#divide and conquer algorithm. O(NlogN) time\n",
    "\n",
    "def fastFT(x):\n",
    "    N=len(x)\n",
    "    while N%2==0:\n",
    "        xe=x[0:N:2] #even indexed entries\n",
    "        xo=x[1:N:2] #odd indexed entries\n",
    "        fe=fastFT(xe) #fourier transform of even half\n",
    "        fo=fastFT(xo) #fourier transform of odd half\n",
    "        k=np.exp(-1j*2*np.pi*np.arange(N)/N) #the factor\n",
    "        F1=fe+k[:int(N/2)]*fo #for less than N/2 part\n",
    "        F2=fe+k[int(N/2):]*fo #for greater than N/2 part\n",
    "        F=np.concatenate([F1,F2]) #joining the two parts to get the final fft\n",
    "        return F\n",
    "    else:\n",
    "        return dft(x)\n",
    "    "
   ]
  },
  {
   "cell_type": "code",
   "execution_count": 35,
   "id": "cc98a447",
   "metadata": {},
   "outputs": [
    {
     "name": "stdout",
     "output_type": "stream",
     "text": [
      "3.913339617472021e-12\n"
     ]
    }
   ],
   "source": [
    "#checking correctness of fastFT\n",
    "\n",
    "m=(2**10)*9\n",
    "a=np.random.rand(m)\n",
    "b=fastFT(a)\n",
    "c=fft(a)\n",
    "error=np.max(np.abs(b-c))\n",
    "print(error)\n",
    "\n",
    "#much better error"
   ]
  },
  {
   "cell_type": "code",
   "execution_count": 36,
   "id": "6f14123b",
   "metadata": {},
   "outputs": [
    {
     "name": "stdout",
     "output_type": "stream",
     "text": [
      "8.35 ns ± 0.00644 ns per loop (mean ± std. dev. of 7 runs, 100,000,000 loops each)\n",
      "8.35 ns ± 0.0127 ns per loop (mean ± std. dev. of 7 runs, 100,000,000 loops each)\n"
     ]
    }
   ],
   "source": [
    "#checking speed\n",
    "\n",
    "%timeit fastFT\n",
    "%timeit fft\n",
    "\n",
    "#very close. But not much changed \n",
    "#maybe my understanding of using time-it is off"
   ]
  },
  {
   "cell_type": "code",
   "execution_count": 37,
   "id": "8d1439d7",
   "metadata": {},
   "outputs": [],
   "source": [
    "''' 2/3 dealiasing for burgers eqn ut+uux=nu*uxx'''\n",
    "from numpy.fft import fft,ifft,fftfreq\n"
   ]
  },
  {
   "cell_type": "code",
   "execution_count": 38,
   "id": "70eab506",
   "metadata": {},
   "outputs": [],
   "source": [
    "#writing the get-rhs fn of burgers without dealias filter\n",
    "#parameters -function u,viscosity nu,wavenumber array k\n",
    "\n",
    "def getrhs(u,nu,k):\n",
    "    uk=fft(u) #discrete fourier transform of u\n",
    "    uxk=1j*k*uk #discrete fourier transform of ux\n",
    "    uxxk=-(k**2)*uk #discrete fourier transform of uxx\n",
    "    return -u*np.real(ifft(uxk))+nu*np.real(ifft(uxxk))\n",
    "\n"
   ]
  },
  {
   "cell_type": "code",
   "execution_count": 39,
   "id": "51ddbb27",
   "metadata": {},
   "outputs": [],
   "source": [
    "#writing a get-rhs fn of burgers with dealias filter\n",
    "#parameters -function u,viscosity nu,wavenumber array k,dealias filer dealias\n",
    "#referred to https://www.uni-muenster.de/imperia/md/content/physik_tp/lectures/ss2017/numerische_Methoden_fuer_komplexe_Systeme_II/pseudospectral.pdf\n",
    "\n",
    "def getrhsde(u,nu,k,dealias):\n",
    "    uk=fft(u) #fft of u\n",
    "    ukde=dealias*uk #dealiased uk\n",
    "    ude=np.real(ifft(ukde)) #dealiased u\n",
    "    uxk=1j*k*uk #discrete fourier transform of ux\n",
    "    uxkde=dealias*uxk #dealiased fft of ux\n",
    "    uxde=np.real(ifft(uxkde)) #dealiased first space derivative of u\n",
    "    uxxk=-(k**2)*uk #discrete fourier transform of uxx\n",
    "    nlp=ude*uxde #non-linear term with dealiased u\n",
    "    nlpk=fft(nlp) #fft of non-linear term\n",
    "    nlpkde=dealias*nlpk #dealiased fft of nl\n",
    "    nlpde=np.real(ifft(nlpkde)) #dealiased nlp\n",
    "    return -nlpde+nu*np.real(ifft(uxxk))\n",
    "    \n",
    "\n",
    "\n"
   ]
  },
  {
   "cell_type": "code",
   "execution_count": 52,
   "id": "0be641aa",
   "metadata": {},
   "outputs": [
    {
     "name": "stdout",
     "output_type": "stream",
     "text": [
      "6.384892614619275e-13\n",
      "1.4445094426163152e-11\n",
      "2.296302037407827e-10\n",
      "8.230363612860003e-10\n",
      "4.142286180730537e-09\n"
     ]
    }
   ],
   "source": [
    "#trying errors for without dealiasing\n",
    "\n",
    "Narray=np.array([2**7,2**9,2**11,2**12,2**13]) #space points array\n",
    "\n",
    "\n",
    "\n",
    "for N in Narray:\n",
    "    \n",
    "    dx=2*np.pi/N\n",
    "    x=np.arange(0,2*np.pi,dx)\n",
    "    k=fftfreq(N,1/N)\n",
    "    u=np.sin(x)\n",
    "    nu=1\n",
    "    computedrhs=getrhs(u,nu,k)\n",
    "    actualrhs=-np.sin(x)*np.cos(x)-nu*np.sin(x)\n",
    "    error=np.max(np.abs(computedrhs-actualrhs))\n",
    "    print(error)\n",
    "    \n",
    "\n",
    "\n",
    "#Thank god,it works"
   ]
  },
  {
   "cell_type": "code",
   "execution_count": 53,
   "id": "374d8451",
   "metadata": {},
   "outputs": [
    {
     "name": "stdout",
     "output_type": "stream",
     "text": [
      "6.373790384373024e-13\n",
      "1.4445295654086365e-11\n",
      "2.296423051717511e-10\n",
      "8.2305212645295e-10\n",
      "4.142344522950481e-09\n"
     ]
    }
   ],
   "source": [
    "#trying errors with dealias filter\n",
    "\n",
    "#trying errors for without dealiasing\n",
    "\n",
    "Narray=np.array([2**7,2**9,2**11,2**12,2**13]) #space points array\n",
    "\n",
    "\n",
    "\n",
    "for N in Narray:\n",
    "\n",
    "    dx=2*np.pi/N\n",
    "    x=np.arange(0,2*np.pi,dx)\n",
    "    k=fftfreq(N,1/N)\n",
    "    u=np.sin(x)\n",
    "    nu=1\n",
    "    dealias=np.abs(k)<N/3\n",
    "    computedrhs=getrhsde(u,nu,k,dealias)\n",
    "    actualrhs=-np.sin(x)*np.cos(x)-nu*np.sin(x)\n",
    "    error=np.max(np.abs(computedrhs-actualrhs))\n",
    "    print(error)\n",
    "    \n",
    "\n",
    "\n",
    "#Thank god,it works\n",
    "#pretty much same"
   ]
  },
  {
   "cell_type": "code",
   "execution_count": null,
   "id": "39e06a5e",
   "metadata": {},
   "outputs": [],
   "source": []
  },
  {
   "cell_type": "code",
   "execution_count": null,
   "id": "e9a9348d",
   "metadata": {},
   "outputs": [],
   "source": []
  }
 ],
 "metadata": {
  "kernelspec": {
   "display_name": "Python 3 (ipykernel)",
   "language": "python",
   "name": "python3"
  },
  "language_info": {
   "codemirror_mode": {
    "name": "ipython",
    "version": 3
   },
   "file_extension": ".py",
   "mimetype": "text/x-python",
   "name": "python",
   "nbconvert_exporter": "python",
   "pygments_lexer": "ipython3",
   "version": "3.11.4"
  }
 },
 "nbformat": 4,
 "nbformat_minor": 5
}
